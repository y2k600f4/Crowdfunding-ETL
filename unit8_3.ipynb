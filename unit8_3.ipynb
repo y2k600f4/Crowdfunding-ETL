{
 "cells": [
  {
   "cell_type": "code",
   "execution_count": 6,
   "id": "9eca9b07",
   "metadata": {},
   "outputs": [
    {
     "data": {
      "text/html": [
       "<div>\n",
       "<style scoped>\n",
       "    .dataframe tbody tr th:only-of-type {\n",
       "        vertical-align: middle;\n",
       "    }\n",
       "\n",
       "    .dataframe tbody tr th {\n",
       "        vertical-align: top;\n",
       "    }\n",
       "\n",
       "    .dataframe thead th {\n",
       "        text-align: right;\n",
       "    }\n",
       "</style>\n",
       "<table border=\"1\" class=\"dataframe\">\n",
       "  <thead>\n",
       "    <tr style=\"text-align: right;\">\n",
       "      <th></th>\n",
       "      <th>contact_info</th>\n",
       "    </tr>\n",
       "  </thead>\n",
       "  <tbody>\n",
       "    <tr>\n",
       "      <th>0</th>\n",
       "      <td>contact_id 4661 name Cecilia Velasco email cec...</td>\n",
       "    </tr>\n",
       "    <tr>\n",
       "      <th>1</th>\n",
       "      <td>contact_id 3765 name Mariana Ellis email maria...</td>\n",
       "    </tr>\n",
       "    <tr>\n",
       "      <th>2</th>\n",
       "      <td>contact_id 4187 name Sofie Woods email sofie.w...</td>\n",
       "    </tr>\n",
       "    <tr>\n",
       "      <th>3</th>\n",
       "      <td>contact_id 4941 name Jeanette Iannotti email j...</td>\n",
       "    </tr>\n",
       "    <tr>\n",
       "      <th>4</th>\n",
       "      <td>contact_id 2199 name Samuel Sorgatz email samu...</td>\n",
       "    </tr>\n",
       "  </tbody>\n",
       "</table>\n",
       "</div>"
      ],
      "text/plain": [
       "                                        contact_info\n",
       "0  contact_id 4661 name Cecilia Velasco email cec...\n",
       "1  contact_id 3765 name Mariana Ellis email maria...\n",
       "2  contact_id 4187 name Sofie Woods email sofie.w...\n",
       "3  contact_id 4941 name Jeanette Iannotti email j...\n",
       "4  contact_id 2199 name Samuel Sorgatz email samu..."
      ]
     },
     "execution_count": 6,
     "metadata": {},
     "output_type": "execute_result"
    }
   ],
   "source": [
    "# Import the Pandas dependency.\n",
    "import pandas as pd\n",
    "\n",
    "\n",
    "# Read the contacts string data into a Pandas DataFrame\n",
    "contacts_string_df = pd.read_csv(\"Resources/contacts_string_data.csv\")\n",
    "contacts_string_df.head()"
   ]
  },
  {
   "cell_type": "code",
   "execution_count": 13,
   "id": "f6214830",
   "metadata": {},
   "outputs": [
    {
     "data": {
      "text/html": [
       "<div>\n",
       "<style scoped>\n",
       "    .dataframe tbody tr th:only-of-type {\n",
       "        vertical-align: middle;\n",
       "    }\n",
       "\n",
       "    .dataframe tbody tr th {\n",
       "        vertical-align: top;\n",
       "    }\n",
       "\n",
       "    .dataframe thead th {\n",
       "        text-align: right;\n",
       "    }\n",
       "</style>\n",
       "<table border=\"1\" class=\"dataframe\">\n",
       "  <thead>\n",
       "    <tr style=\"text-align: right;\">\n",
       "      <th></th>\n",
       "      <th>contact_info</th>\n",
       "      <th>contact_id</th>\n",
       "    </tr>\n",
       "  </thead>\n",
       "  <tbody>\n",
       "    <tr>\n",
       "      <th>0</th>\n",
       "      <td>contact_id 4661 name Cecilia Velasco email cec...</td>\n",
       "      <td>4661</td>\n",
       "    </tr>\n",
       "    <tr>\n",
       "      <th>1</th>\n",
       "      <td>contact_id 3765 name Mariana Ellis email maria...</td>\n",
       "      <td>3765</td>\n",
       "    </tr>\n",
       "    <tr>\n",
       "      <th>2</th>\n",
       "      <td>contact_id 4187 name Sofie Woods email sofie.w...</td>\n",
       "      <td>4187</td>\n",
       "    </tr>\n",
       "    <tr>\n",
       "      <th>3</th>\n",
       "      <td>contact_id 4941 name Jeanette Iannotti email j...</td>\n",
       "      <td>4941</td>\n",
       "    </tr>\n",
       "    <tr>\n",
       "      <th>4</th>\n",
       "      <td>contact_id 2199 name Samuel Sorgatz email samu...</td>\n",
       "      <td>2199</td>\n",
       "    </tr>\n",
       "    <tr>\n",
       "      <th>...</th>\n",
       "      <td>...</td>\n",
       "      <td>...</td>\n",
       "    </tr>\n",
       "    <tr>\n",
       "      <th>995</th>\n",
       "      <td>contact_id 3684 name Whitney Noack email whitn...</td>\n",
       "      <td>3684</td>\n",
       "    </tr>\n",
       "    <tr>\n",
       "      <th>996</th>\n",
       "      <td>contact_id 5784 name Gelsomina Migliaccio emai...</td>\n",
       "      <td>5784</td>\n",
       "    </tr>\n",
       "    <tr>\n",
       "      <th>997</th>\n",
       "      <td>contact_id 1498 name Evangelista Pereira email...</td>\n",
       "      <td>1498</td>\n",
       "    </tr>\n",
       "    <tr>\n",
       "      <th>998</th>\n",
       "      <td>contact_id 6073 name Gareth Comolli email gare...</td>\n",
       "      <td>6073</td>\n",
       "    </tr>\n",
       "    <tr>\n",
       "      <th>999</th>\n",
       "      <td>contact_id 4939 name Michelangelo Hess email m...</td>\n",
       "      <td>4939</td>\n",
       "    </tr>\n",
       "  </tbody>\n",
       "</table>\n",
       "<p>1000 rows × 2 columns</p>\n",
       "</div>"
      ],
      "text/plain": [
       "                                          contact_info contact_id\n",
       "0    contact_id 4661 name Cecilia Velasco email cec...       4661\n",
       "1    contact_id 3765 name Mariana Ellis email maria...       3765\n",
       "2    contact_id 4187 name Sofie Woods email sofie.w...       4187\n",
       "3    contact_id 4941 name Jeanette Iannotti email j...       4941\n",
       "4    contact_id 2199 name Samuel Sorgatz email samu...       2199\n",
       "..                                                 ...        ...\n",
       "995  contact_id 3684 name Whitney Noack email whitn...       3684\n",
       "996  contact_id 5784 name Gelsomina Migliaccio emai...       5784\n",
       "997  contact_id 1498 name Evangelista Pereira email...       1498\n",
       "998  contact_id 6073 name Gareth Comolli email gare...       6073\n",
       "999  contact_id 4939 name Michelangelo Hess email m...       4939\n",
       "\n",
       "[1000 rows x 2 columns]"
      ]
     },
     "execution_count": 13,
     "metadata": {},
     "output_type": "execute_result"
    }
   ],
   "source": [
    "# Extract the four-digit contact ID number.\n",
    "#typo fix\n",
    "contacts_string_df['contact_id'] = contacts_string_df['contact_info'].str.extract(r'(\\d{4})')\n",
    "contacts_string_df\n"
   ]
  },
  {
   "cell_type": "code",
   "execution_count": 14,
   "id": "9bc3907b",
   "metadata": {},
   "outputs": [
    {
     "ename": "SyntaxError",
     "evalue": "invalid character in identifier (2846301193.py, line 4)",
     "output_type": "error",
     "traceback": [
      "\u001b[1;36m  File \u001b[1;32m\"C:\\Users\\KGaynor\\AppData\\Local\\Temp\\ipykernel_44664\\2846301193.py\"\u001b[1;36m, line \u001b[1;32m4\u001b[0m\n\u001b[1;33m    string_data = “contact_id 4661 name Cecilia Velasco email cecilia.velasco@rodrigues.fr”\u001b[0m\n\u001b[1;37m                            ^\u001b[0m\n\u001b[1;31mSyntaxError\u001b[0m\u001b[1;31m:\u001b[0m invalid character in identifier\n"
     ]
    }
   ],
   "source": [
    "# Import the regular expression module.\n",
    "import re\n",
    "# Assign the string data to a variable.\n",
    "string_data = “contact_id 4661 name Cecilia Velasco email cecilia.velasco@rodrigues.fr”\n",
    "# Extract the four digit number.\n",
    "contact_id = re.findall(r’(\\d{4})’, string_data)\n",
    "print(contact_id)"
   ]
  },
  {
   "cell_type": "code",
   "execution_count": 12,
   "id": "90678c10",
   "metadata": {},
   "outputs": [
    {
     "ename": "NameError",
     "evalue": "name 're' is not defined",
     "output_type": "error",
     "traceback": [
      "\u001b[1;31m---------------------------------------------------------------------------\u001b[0m",
      "\u001b[1;31mNameError\u001b[0m                                 Traceback (most recent call last)",
      "\u001b[1;32m~\\AppData\\Local\\Temp\\ipykernel_44664\\2944957037.py\u001b[0m in \u001b[0;36m<module>\u001b[1;34m\u001b[0m\n\u001b[0;32m      1\u001b[0m \u001b[1;31m# Extract the first and last name after the word \"name\".\u001b[0m\u001b[1;33m\u001b[0m\u001b[1;33m\u001b[0m\u001b[1;33m\u001b[0m\u001b[0m\n\u001b[1;32m----> 2\u001b[1;33m \u001b[0mname\u001b[0m \u001b[1;33m=\u001b[0m \u001b[0mre\u001b[0m\u001b[1;33m.\u001b[0m\u001b[0mfindall\u001b[0m\u001b[1;33m(\u001b[0m\u001b[1;34mr'([^name\\s+][A-Za-z]+\\s+[A-Za-z]+)'\u001b[0m\u001b[1;33m,\u001b[0m \u001b[0mstring_data\u001b[0m\u001b[1;33m)\u001b[0m\u001b[1;33m\u001b[0m\u001b[1;33m\u001b[0m\u001b[0m\n\u001b[0m\u001b[0;32m      3\u001b[0m \u001b[0mname\u001b[0m\u001b[1;33m\u001b[0m\u001b[1;33m\u001b[0m\u001b[0m\n",
      "\u001b[1;31mNameError\u001b[0m: name 're' is not defined"
     ]
    }
   ],
   "source": [
    "# Extract the first and last name after the word \"name\". \n",
    "name = re.findall(r'([^name\\s+][A-Za-z]+\\s+[A-Za-z]+)', string_data)\n",
    "name"
   ]
  },
  {
   "cell_type": "code",
   "execution_count": null,
   "id": "1ae70fba",
   "metadata": {},
   "outputs": [],
   "source": []
  }
 ],
 "metadata": {
  "kernelspec": {
   "display_name": "PythonData",
   "language": "python",
   "name": "pythondata"
  },
  "language_info": {
   "codemirror_mode": {
    "name": "ipython",
    "version": 3
   },
   "file_extension": ".py",
   "mimetype": "text/x-python",
   "name": "python",
   "nbconvert_exporter": "python",
   "pygments_lexer": "ipython3",
   "version": "3.7.13"
  }
 },
 "nbformat": 4,
 "nbformat_minor": 5
}
